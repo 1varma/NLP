{
 "cells": [
  {
   "cell_type": "code",
   "execution_count": 13,
   "metadata": {},
   "outputs": [],
   "source": [
    "import nltk\n",
    "from nltk.corpus import stopwords\n",
    "from nltk.tokenize import word_tokenize, RegexpTokenizer\n",
    "\n",
    "import pickle\n",
    "import pandas as pd\n",
    "from tqdm import tqdm\n",
    "import seaborn as sns\n",
    "import matplotlib.pyplot as plt\n",
    "from collections import Counter\n",
    "\n",
    "from sklearn.naive_bayes import MultinomialNB\n",
    "from sklearn.model_selection import train_test_split\n",
    "from sklearn.feature_extraction.text import CountVectorizer\n",
    "from sklearn.metrics import accuracy_score, confusion_matrix\n",
    "\n",
    "%matplotlib inline"
   ]
  },
  {
   "cell_type": "markdown",
   "metadata": {},
   "source": [
    "### Data Cleaning & Exploration"
   ]
  },
  {
   "cell_type": "code",
   "execution_count": 14,
   "metadata": {},
   "outputs": [],
   "source": [
    "data = pd.read_csv('Input/complaints.csv')"
   ]
  },
  {
   "cell_type": "code",
   "execution_count": 15,
   "metadata": {},
   "outputs": [
    {
     "data": {
      "text/plain": [
       "(2326246, 18)"
      ]
     },
     "execution_count": 15,
     "metadata": {},
     "output_type": "execute_result"
    }
   ],
   "source": [
    "data.shape"
   ]
  },
  {
   "cell_type": "code",
   "execution_count": 16,
   "metadata": {},
   "outputs": [
    {
     "data": {
      "text/html": [
       "<div>\n",
       "<style scoped>\n",
       "    .dataframe tbody tr th:only-of-type {\n",
       "        vertical-align: middle;\n",
       "    }\n",
       "\n",
       "    .dataframe tbody tr th {\n",
       "        vertical-align: top;\n",
       "    }\n",
       "\n",
       "    .dataframe thead th {\n",
       "        text-align: right;\n",
       "    }\n",
       "</style>\n",
       "<table border=\"1\" class=\"dataframe\">\n",
       "  <thead>\n",
       "    <tr style=\"text-align: right;\">\n",
       "      <th></th>\n",
       "      <th>Date received</th>\n",
       "      <th>Product</th>\n",
       "      <th>Sub-product</th>\n",
       "      <th>Issue</th>\n",
       "      <th>Sub-issue</th>\n",
       "      <th>Consumer complaint narrative</th>\n",
       "      <th>Company public response</th>\n",
       "      <th>Company</th>\n",
       "      <th>State</th>\n",
       "      <th>ZIP code</th>\n",
       "      <th>Tags</th>\n",
       "      <th>Consumer consent provided?</th>\n",
       "      <th>Submitted via</th>\n",
       "      <th>Date sent to company</th>\n",
       "      <th>Company response to consumer</th>\n",
       "      <th>Timely response?</th>\n",
       "      <th>Consumer disputed?</th>\n",
       "      <th>Complaint ID</th>\n",
       "    </tr>\n",
       "  </thead>\n",
       "  <tbody>\n",
       "    <tr>\n",
       "      <th>0</th>\n",
       "      <td>2019-06-13</td>\n",
       "      <td>Credit reporting, credit repair services, or o...</td>\n",
       "      <td>Credit reporting</td>\n",
       "      <td>Incorrect information on your report</td>\n",
       "      <td>Information belongs to someone else</td>\n",
       "      <td>NaN</td>\n",
       "      <td>NaN</td>\n",
       "      <td>CAPITAL ONE FINANCIAL CORPORATION</td>\n",
       "      <td>PA</td>\n",
       "      <td>186XX</td>\n",
       "      <td>NaN</td>\n",
       "      <td>Consent not provided</td>\n",
       "      <td>Web</td>\n",
       "      <td>2019-06-13</td>\n",
       "      <td>Closed with explanation</td>\n",
       "      <td>Yes</td>\n",
       "      <td>NaN</td>\n",
       "      <td>3274605</td>\n",
       "    </tr>\n",
       "    <tr>\n",
       "      <th>1</th>\n",
       "      <td>2019-11-01</td>\n",
       "      <td>Vehicle loan or lease</td>\n",
       "      <td>Loan</td>\n",
       "      <td>Struggling to pay your loan</td>\n",
       "      <td>Denied request to lower payments</td>\n",
       "      <td>I contacted Ally on Friday XX/XX/XXXX after fa...</td>\n",
       "      <td>Company has responded to the consumer and the ...</td>\n",
       "      <td>ALLY FINANCIAL INC.</td>\n",
       "      <td>NJ</td>\n",
       "      <td>088XX</td>\n",
       "      <td>NaN</td>\n",
       "      <td>Consent provided</td>\n",
       "      <td>Web</td>\n",
       "      <td>2019-11-01</td>\n",
       "      <td>Closed with explanation</td>\n",
       "      <td>Yes</td>\n",
       "      <td>NaN</td>\n",
       "      <td>3425257</td>\n",
       "    </tr>\n",
       "    <tr>\n",
       "      <th>2</th>\n",
       "      <td>2019-04-01</td>\n",
       "      <td>Credit reporting, credit repair services, or o...</td>\n",
       "      <td>Credit reporting</td>\n",
       "      <td>Incorrect information on your report</td>\n",
       "      <td>Account status incorrect</td>\n",
       "      <td>NaN</td>\n",
       "      <td>Company has responded to the consumer and the ...</td>\n",
       "      <td>TRANSUNION INTERMEDIATE HOLDINGS, INC.</td>\n",
       "      <td>PA</td>\n",
       "      <td>19067</td>\n",
       "      <td>NaN</td>\n",
       "      <td>Consent not provided</td>\n",
       "      <td>Web</td>\n",
       "      <td>2019-04-01</td>\n",
       "      <td>Closed with explanation</td>\n",
       "      <td>Yes</td>\n",
       "      <td>NaN</td>\n",
       "      <td>3198225</td>\n",
       "    </tr>\n",
       "    <tr>\n",
       "      <th>3</th>\n",
       "      <td>2021-11-01</td>\n",
       "      <td>Credit reporting, credit repair services, or o...</td>\n",
       "      <td>Credit reporting</td>\n",
       "      <td>Problem with a credit reporting company's inve...</td>\n",
       "      <td>Was not notified of investigation status or re...</td>\n",
       "      <td>NaN</td>\n",
       "      <td>NaN</td>\n",
       "      <td>TRANSUNION INTERMEDIATE HOLDINGS, INC.</td>\n",
       "      <td>GA</td>\n",
       "      <td>31707</td>\n",
       "      <td>NaN</td>\n",
       "      <td>NaN</td>\n",
       "      <td>Web</td>\n",
       "      <td>2021-11-01</td>\n",
       "      <td>In progress</td>\n",
       "      <td>Yes</td>\n",
       "      <td>NaN</td>\n",
       "      <td>4863965</td>\n",
       "    </tr>\n",
       "    <tr>\n",
       "      <th>4</th>\n",
       "      <td>2021-11-02</td>\n",
       "      <td>Debt collection</td>\n",
       "      <td>Medical debt</td>\n",
       "      <td>Took or threatened to take negative or legal a...</td>\n",
       "      <td>Threatened or suggested your credit would be d...</td>\n",
       "      <td>NaN</td>\n",
       "      <td>NaN</td>\n",
       "      <td>Medical Data Systems, Inc.</td>\n",
       "      <td>VA</td>\n",
       "      <td>22033</td>\n",
       "      <td>NaN</td>\n",
       "      <td>NaN</td>\n",
       "      <td>Web</td>\n",
       "      <td>2021-11-02</td>\n",
       "      <td>In progress</td>\n",
       "      <td>Yes</td>\n",
       "      <td>NaN</td>\n",
       "      <td>4866449</td>\n",
       "    </tr>\n",
       "  </tbody>\n",
       "</table>\n",
       "</div>"
      ],
      "text/plain": [
       "  Date received                                            Product  \\\n",
       "0    2019-06-13  Credit reporting, credit repair services, or o...   \n",
       "1    2019-11-01                              Vehicle loan or lease   \n",
       "2    2019-04-01  Credit reporting, credit repair services, or o...   \n",
       "3    2021-11-01  Credit reporting, credit repair services, or o...   \n",
       "4    2021-11-02                                    Debt collection   \n",
       "\n",
       "        Sub-product                                              Issue  \\\n",
       "0  Credit reporting               Incorrect information on your report   \n",
       "1              Loan                        Struggling to pay your loan   \n",
       "2  Credit reporting               Incorrect information on your report   \n",
       "3  Credit reporting  Problem with a credit reporting company's inve...   \n",
       "4      Medical debt  Took or threatened to take negative or legal a...   \n",
       "\n",
       "                                           Sub-issue  \\\n",
       "0                Information belongs to someone else   \n",
       "1                   Denied request to lower payments   \n",
       "2                           Account status incorrect   \n",
       "3  Was not notified of investigation status or re...   \n",
       "4  Threatened or suggested your credit would be d...   \n",
       "\n",
       "                        Consumer complaint narrative  \\\n",
       "0                                                NaN   \n",
       "1  I contacted Ally on Friday XX/XX/XXXX after fa...   \n",
       "2                                                NaN   \n",
       "3                                                NaN   \n",
       "4                                                NaN   \n",
       "\n",
       "                             Company public response  \\\n",
       "0                                                NaN   \n",
       "1  Company has responded to the consumer and the ...   \n",
       "2  Company has responded to the consumer and the ...   \n",
       "3                                                NaN   \n",
       "4                                                NaN   \n",
       "\n",
       "                                  Company State ZIP code Tags  \\\n",
       "0       CAPITAL ONE FINANCIAL CORPORATION    PA    186XX  NaN   \n",
       "1                     ALLY FINANCIAL INC.    NJ    088XX  NaN   \n",
       "2  TRANSUNION INTERMEDIATE HOLDINGS, INC.    PA    19067  NaN   \n",
       "3  TRANSUNION INTERMEDIATE HOLDINGS, INC.    GA    31707  NaN   \n",
       "4              Medical Data Systems, Inc.    VA    22033  NaN   \n",
       "\n",
       "  Consumer consent provided? Submitted via Date sent to company  \\\n",
       "0       Consent not provided           Web           2019-06-13   \n",
       "1           Consent provided           Web           2019-11-01   \n",
       "2       Consent not provided           Web           2019-04-01   \n",
       "3                        NaN           Web           2021-11-01   \n",
       "4                        NaN           Web           2021-11-02   \n",
       "\n",
       "  Company response to consumer Timely response? Consumer disputed?  \\\n",
       "0      Closed with explanation              Yes                NaN   \n",
       "1      Closed with explanation              Yes                NaN   \n",
       "2      Closed with explanation              Yes                NaN   \n",
       "3                  In progress              Yes                NaN   \n",
       "4                  In progress              Yes                NaN   \n",
       "\n",
       "   Complaint ID  \n",
       "0       3274605  \n",
       "1       3425257  \n",
       "2       3198225  \n",
       "3       4863965  \n",
       "4       4866449  "
      ]
     },
     "execution_count": 16,
     "metadata": {},
     "output_type": "execute_result"
    }
   ],
   "source": [
    "data.head()"
   ]
  },
  {
   "cell_type": "code",
   "execution_count": 17,
   "metadata": {},
   "outputs": [
    {
     "data": {
      "text/plain": [
       "'Receiving daily telephone call ( s ) from XXXX XXXX XXXX identifying themselves as from an attorney \\'s office and I am unable to decifer the name after asking 3 times. They ask me to confirm that my name is \" prior married name \". I ask what they want and they repeat the question. I responded yes and they hang up. \\n\\nThe next call from that number was asking me if I was a different name - my maiden name which I recently change to. When I asked for clarification, they hung up. \\n\\nI have received a total of 6 calls in approx 2 days. They never divulge what they want after attempting to verify my name ( s )'"
      ]
     },
     "execution_count": 17,
     "metadata": {},
     "output_type": "execute_result"
    }
   ],
   "source": [
    "data['Consumer complaint narrative'][13]"
   ]
  },
  {
   "cell_type": "code",
   "execution_count": 18,
   "metadata": {},
   "outputs": [
    {
     "data": {
      "text/plain": [
       "'Credit reporting, credit repair services, or other personal consumer reports'"
      ]
     },
     "execution_count": 18,
     "metadata": {},
     "output_type": "execute_result"
    }
   ],
   "source": [
    "data['Product'][13]"
   ]
  },
  {
   "cell_type": "code",
   "execution_count": 19,
   "metadata": {},
   "outputs": [
    {
     "data": {
      "text/plain": [
       "\"I was looking through my report and noticed a vehicle that I returned to the dealership where it's reporting completely incorrect. I had the opportunity to talk to several lawmakers and friends, and learned some basic laws in regards to voluntary or repossession of a vehicle. Under the laws of MASS and UCC 9.506 as well as State RISA and MVISA statutes, a deficiency can not be claimed unless all of the required notices were properly and timely given, and all of the allowable redemption and cure time limits were adhered to. PLEASE HAVE THEM IMMEDIATELY REMOVE\""
      ]
     },
     "execution_count": 19,
     "metadata": {},
     "output_type": "execute_result"
    }
   ],
   "source": [
    "data['Consumer complaint narrative'][3401]"
   ]
  },
  {
   "cell_type": "code",
   "execution_count": 20,
   "metadata": {},
   "outputs": [
    {
     "data": {
      "text/plain": [
       "'Vehicle loan or lease'"
      ]
     },
     "execution_count": 20,
     "metadata": {},
     "output_type": "execute_result"
    }
   ],
   "source": [
    "data['Product'][3401]"
   ]
  },
  {
   "cell_type": "markdown",
   "metadata": {},
   "source": [
    "#### Select only 'product' and 'Consumer complaint narrative' columns"
   ]
  },
  {
   "cell_type": "code",
   "execution_count": 21,
   "metadata": {},
   "outputs": [],
   "source": [
    "data = data[['Product', 'Consumer complaint narrative']]"
   ]
  },
  {
   "cell_type": "code",
   "execution_count": 22,
   "metadata": {},
   "outputs": [
    {
     "data": {
      "text/html": [
       "<div>\n",
       "<style scoped>\n",
       "    .dataframe tbody tr th:only-of-type {\n",
       "        vertical-align: middle;\n",
       "    }\n",
       "\n",
       "    .dataframe tbody tr th {\n",
       "        vertical-align: top;\n",
       "    }\n",
       "\n",
       "    .dataframe thead th {\n",
       "        text-align: right;\n",
       "    }\n",
       "</style>\n",
       "<table border=\"1\" class=\"dataframe\">\n",
       "  <thead>\n",
       "    <tr style=\"text-align: right;\">\n",
       "      <th></th>\n",
       "      <th>Product</th>\n",
       "      <th>Consumer complaint narrative</th>\n",
       "    </tr>\n",
       "  </thead>\n",
       "  <tbody>\n",
       "    <tr>\n",
       "      <th>0</th>\n",
       "      <td>Credit reporting, credit repair services, or o...</td>\n",
       "      <td>NaN</td>\n",
       "    </tr>\n",
       "    <tr>\n",
       "      <th>1</th>\n",
       "      <td>Vehicle loan or lease</td>\n",
       "      <td>I contacted Ally on Friday XX/XX/XXXX after fa...</td>\n",
       "    </tr>\n",
       "    <tr>\n",
       "      <th>2</th>\n",
       "      <td>Credit reporting, credit repair services, or o...</td>\n",
       "      <td>NaN</td>\n",
       "    </tr>\n",
       "    <tr>\n",
       "      <th>3</th>\n",
       "      <td>Credit reporting, credit repair services, or o...</td>\n",
       "      <td>NaN</td>\n",
       "    </tr>\n",
       "    <tr>\n",
       "      <th>4</th>\n",
       "      <td>Debt collection</td>\n",
       "      <td>NaN</td>\n",
       "    </tr>\n",
       "  </tbody>\n",
       "</table>\n",
       "</div>"
      ],
      "text/plain": [
       "                                             Product  \\\n",
       "0  Credit reporting, credit repair services, or o...   \n",
       "1                              Vehicle loan or lease   \n",
       "2  Credit reporting, credit repair services, or o...   \n",
       "3  Credit reporting, credit repair services, or o...   \n",
       "4                                    Debt collection   \n",
       "\n",
       "                        Consumer complaint narrative  \n",
       "0                                                NaN  \n",
       "1  I contacted Ally on Friday XX/XX/XXXX after fa...  \n",
       "2                                                NaN  \n",
       "3                                                NaN  \n",
       "4                                                NaN  "
      ]
     },
     "execution_count": 22,
     "metadata": {},
     "output_type": "execute_result"
    }
   ],
   "source": [
    "data.head()"
   ]
  },
  {
   "cell_type": "code",
   "execution_count": 23,
   "metadata": {},
   "outputs": [
    {
     "data": {
      "text/plain": [
       "Product                               0\n",
       "Consumer complaint narrative    1516903\n",
       "dtype: int64"
      ]
     },
     "execution_count": 23,
     "metadata": {},
     "output_type": "execute_result"
    }
   ],
   "source": [
    "data.isna().sum()"
   ]
  },
  {
   "cell_type": "markdown",
   "metadata": {},
   "source": [
    "#### Drop records with missing complaints"
   ]
  },
  {
   "cell_type": "code",
   "execution_count": 24,
   "metadata": {},
   "outputs": [],
   "source": [
    "data.dropna(inplace=True)"
   ]
  },
  {
   "cell_type": "code",
   "execution_count": 25,
   "metadata": {},
   "outputs": [
    {
     "data": {
      "text/plain": [
       "(809343, 2)"
      ]
     },
     "execution_count": 25,
     "metadata": {},
     "output_type": "execute_result"
    }
   ],
   "source": [
    "data.shape"
   ]
  },
  {
   "cell_type": "code",
   "execution_count": 26,
   "metadata": {},
   "outputs": [],
   "source": [
    "data.rename({'Consumer complaint narrative':'Complaint'}, axis=1, inplace=True)"
   ]
  },
  {
   "cell_type": "code",
   "execution_count": 27,
   "metadata": {},
   "outputs": [
    {
     "data": {
      "text/html": [
       "<div>\n",
       "<style scoped>\n",
       "    .dataframe tbody tr th:only-of-type {\n",
       "        vertical-align: middle;\n",
       "    }\n",
       "\n",
       "    .dataframe tbody tr th {\n",
       "        vertical-align: top;\n",
       "    }\n",
       "\n",
       "    .dataframe thead th {\n",
       "        text-align: right;\n",
       "    }\n",
       "</style>\n",
       "<table border=\"1\" class=\"dataframe\">\n",
       "  <thead>\n",
       "    <tr style=\"text-align: right;\">\n",
       "      <th></th>\n",
       "      <th>Product</th>\n",
       "      <th>Complaint</th>\n",
       "    </tr>\n",
       "  </thead>\n",
       "  <tbody>\n",
       "    <tr>\n",
       "      <th>1</th>\n",
       "      <td>Vehicle loan or lease</td>\n",
       "      <td>I contacted Ally on Friday XX/XX/XXXX after fa...</td>\n",
       "    </tr>\n",
       "    <tr>\n",
       "      <th>7</th>\n",
       "      <td>Credit reporting, credit repair services, or o...</td>\n",
       "      <td>Hello This complaint is against the three cred...</td>\n",
       "    </tr>\n",
       "    <tr>\n",
       "      <th>8</th>\n",
       "      <td>Credit reporting, credit repair services, or o...</td>\n",
       "      <td>I am a victim of Identity Theft &amp; currently ha...</td>\n",
       "    </tr>\n",
       "    <tr>\n",
       "      <th>10</th>\n",
       "      <td>Credit reporting, credit repair services, or o...</td>\n",
       "      <td>Two accounts are still on my credit history af...</td>\n",
       "    </tr>\n",
       "    <tr>\n",
       "      <th>13</th>\n",
       "      <td>Credit reporting, credit repair services, or o...</td>\n",
       "      <td>Receiving daily telephone call ( s ) from XXXX...</td>\n",
       "    </tr>\n",
       "  </tbody>\n",
       "</table>\n",
       "</div>"
      ],
      "text/plain": [
       "                                              Product  \\\n",
       "1                               Vehicle loan or lease   \n",
       "7   Credit reporting, credit repair services, or o...   \n",
       "8   Credit reporting, credit repair services, or o...   \n",
       "10  Credit reporting, credit repair services, or o...   \n",
       "13  Credit reporting, credit repair services, or o...   \n",
       "\n",
       "                                            Complaint  \n",
       "1   I contacted Ally on Friday XX/XX/XXXX after fa...  \n",
       "7   Hello This complaint is against the three cred...  \n",
       "8   I am a victim of Identity Theft & currently ha...  \n",
       "10  Two accounts are still on my credit history af...  \n",
       "13  Receiving daily telephone call ( s ) from XXXX...  "
      ]
     },
     "execution_count": 27,
     "metadata": {},
     "output_type": "execute_result"
    }
   ],
   "source": [
    "data.head()"
   ]
  },
  {
   "cell_type": "code",
   "execution_count": 28,
   "metadata": {},
   "outputs": [
    {
     "data": {
      "text/plain": [
       "array(['Vehicle loan or lease',\n",
       "       'Credit reporting, credit repair services, or other personal consumer reports',\n",
       "       'Credit card or prepaid card',\n",
       "       'Money transfer, virtual currency, or money service', 'Mortgage',\n",
       "       'Payday loan, title loan, or personal loan', 'Debt collection',\n",
       "       'Checking or savings account', 'Student loan', 'Consumer Loan',\n",
       "       'Money transfers', 'Credit card', 'Bank account or service',\n",
       "       'Credit reporting', 'Prepaid card', 'Payday loan',\n",
       "       'Other financial service', 'Virtual currency'], dtype=object)"
      ]
     },
     "execution_count": 28,
     "metadata": {},
     "output_type": "execute_result"
    }
   ],
   "source": [
    "data['Product'].unique()"
   ]
  },
  {
   "cell_type": "markdown",
   "metadata": {},
   "source": [
    "### Create unique values for 'Product'"
   ]
  },
  {
   "cell_type": "code",
   "execution_count": 29,
   "metadata": {},
   "outputs": [],
   "source": [
    "product_map = {\n",
    "    'Vehicle loan and lease': 'vehicle_loan',\n",
    "    'Credit reporting, credit repair services, or other personal consumer reports': 'credit_report',\n",
    "    'Credit card or prepaid card':'card',\n",
    "    'Money transfer, virtual currency, or money service':'money_transfer', \n",
    "    'Mortgage':'mortgage',\n",
    "    'Payday loan, title loan, or personal loan':'loan', \n",
    "    'Debt collection':'debt_collection',\n",
    "    'Checking or savings account':'savings_account', \n",
    "    'Student loan':'loan', \n",
    "    'Consumer Loan':'loan',\n",
    "    'Money transfers':'money_transfer', \n",
    "    'Credit card':'card', \n",
    "    'Bank account or service':'savings_account',\n",
    "    'Credit reporting':'credit_report', \n",
    "    'Prepaid card':'card', \n",
    "    'Payday loan':'loan',\n",
    "    'Other financial service':'others', \n",
    "    'Virtual currency':'money_transfer'\n",
    "}"
   ]
  },
  {
   "cell_type": "code",
   "execution_count": 30,
   "metadata": {},
   "outputs": [],
   "source": [
    "data.replace({'Product':product_map}, inplace=True)"
   ]
  },
  {
   "cell_type": "code",
   "execution_count": 31,
   "metadata": {},
   "outputs": [
    {
     "data": {
      "text/html": [
       "<div>\n",
       "<style scoped>\n",
       "    .dataframe tbody tr th:only-of-type {\n",
       "        vertical-align: middle;\n",
       "    }\n",
       "\n",
       "    .dataframe tbody tr th {\n",
       "        vertical-align: top;\n",
       "    }\n",
       "\n",
       "    .dataframe thead th {\n",
       "        text-align: right;\n",
       "    }\n",
       "</style>\n",
       "<table border=\"1\" class=\"dataframe\">\n",
       "  <thead>\n",
       "    <tr style=\"text-align: right;\">\n",
       "      <th></th>\n",
       "      <th>Product</th>\n",
       "      <th>Complaint</th>\n",
       "    </tr>\n",
       "  </thead>\n",
       "  <tbody>\n",
       "    <tr>\n",
       "      <th>1</th>\n",
       "      <td>Vehicle loan or lease</td>\n",
       "      <td>I contacted Ally on Friday XX/XX/XXXX after fa...</td>\n",
       "    </tr>\n",
       "    <tr>\n",
       "      <th>7</th>\n",
       "      <td>credit_report</td>\n",
       "      <td>Hello This complaint is against the three cred...</td>\n",
       "    </tr>\n",
       "    <tr>\n",
       "      <th>8</th>\n",
       "      <td>credit_report</td>\n",
       "      <td>I am a victim of Identity Theft &amp; currently ha...</td>\n",
       "    </tr>\n",
       "    <tr>\n",
       "      <th>10</th>\n",
       "      <td>credit_report</td>\n",
       "      <td>Two accounts are still on my credit history af...</td>\n",
       "    </tr>\n",
       "    <tr>\n",
       "      <th>13</th>\n",
       "      <td>credit_report</td>\n",
       "      <td>Receiving daily telephone call ( s ) from XXXX...</td>\n",
       "    </tr>\n",
       "  </tbody>\n",
       "</table>\n",
       "</div>"
      ],
      "text/plain": [
       "                  Product                                          Complaint\n",
       "1   Vehicle loan or lease  I contacted Ally on Friday XX/XX/XXXX after fa...\n",
       "7           credit_report  Hello This complaint is against the three cred...\n",
       "8           credit_report  I am a victim of Identity Theft & currently ha...\n",
       "10          credit_report  Two accounts are still on my credit history af...\n",
       "13          credit_report  Receiving daily telephone call ( s ) from XXXX..."
      ]
     },
     "execution_count": 31,
     "metadata": {},
     "output_type": "execute_result"
    }
   ],
   "source": [
    "data.head()"
   ]
  },
  {
   "cell_type": "markdown",
   "metadata": {},
   "source": [
    "### Plot distribution of 'Product' column"
   ]
  },
  {
   "cell_type": "code",
   "execution_count": 32,
   "metadata": {},
   "outputs": [
    {
     "data": {
      "image/png": "[encoded data removed]",
      "text/plain": [
       "<Figure size 640x480 with 1 Axes>"
      ]
     },
     "metadata": {},
     "output_type": "display_data"
    }
   ],
   "source": [
    "sns.countplot(x='Product', data=data, hue='Product')\n",
    "plt.xticks(rotation=90)\n",
    "plt.show()"
   ]
  },
  {
   "cell_type": "code",
   "execution_count": 33,
   "metadata": {},
   "outputs": [
    {
     "data": {
      "text/plain": [
       "Product\n",
       "credit_report            348053\n",
       "debt_collection          157381\n",
       "mortgage                  84461\n",
       "card                      81042\n",
       "savings_account           52274\n",
       "loan                      50710\n",
       "money_transfer            20096\n",
       "Vehicle loan or lease     15034\n",
       "others                      292\n",
       "Name: count, dtype: int64"
      ]
     },
     "execution_count": 33,
     "metadata": {},
     "output_type": "execute_result"
    }
   ],
   "source": [
    "data['Product'].value_counts()"
   ]
  },
  {
   "cell_type": "code",
   "execution_count": 34,
   "metadata": {},
   "outputs": [],
   "source": [
    "complaints = list(data['Complaint'])"
   ]
  },
  {
   "cell_type": "code",
   "execution_count": 35,
   "metadata": {},
   "outputs": [
    {
     "data": {
      "text/plain": [
       "809343"
      ]
     },
     "execution_count": 35,
     "metadata": {},
     "output_type": "execute_result"
    }
   ],
   "source": [
    "len(complaints)"
   ]
  },
  {
   "cell_type": "markdown",
   "metadata": {},
   "source": [
    "### Convert data to lower case"
   ]
  },
  {
   "cell_type": "code",
   "execution_count": 36,
   "metadata": {},
   "outputs": [
    {
     "name": "stderr",
     "output_type": "stream",
     "text": [
      "100%|██████████| 809343/809343 [00:01<00:00, 806576.53it/s]\n"
     ]
    }
   ],
   "source": [
    "complaints = [c.lower() for c in tqdm(complaints)]"
   ]
  },
  {
   "cell_type": "code",
   "execution_count": 37,
   "metadata": {},
   "outputs": [
    {
     "data": {
      "text/plain": [
       "'my credit reports list monies owed to xxxx. i have written to the collection agency, xxxx xxxx xxxx requesting proof that i owe monies on this account, but none was ever sent. i notified the credit agencies that this creditor never sent me the required proof, yet they continue to list this account on my credit report. \\n\\nmy credit reports list xxxx xxxx xxxx and xxxx for monies owed to xxxx. i submitted documentation that showed that the original creditor was paid however, the credit reporting agencies continue to list xxxx xxxx on my credit report. furthermore, two separate collection agencies can not be listed on my creditreport over the same account. \\n\\nmy credit reports list a bankruptcy that should have been deleted since the 7 years of reporting it has expired.'"
      ]
     },
     "execution_count": 37,
     "metadata": {},
     "output_type": "execute_result"
    }
   ],
   "source": [
    "complaints[13]"
   ]
  },
  {
   "cell_type": "code",
   "execution_count": 38,
   "metadata": {},
   "outputs": [
    {
     "data": {
      "text/plain": [
       "'xxxx xxxx  sent me a email that it looked like my personal data may had been compromised. i opened it up and reviewed everything and there was several unknown inquiries and accounts that certainly did not belong to me. i pulled my credit to make sure, and these accounts i am reporting are definitely not mine. please remove these items from my report. \\n\\nbankruptcy chapter xxxx-dismissed xxxx {$0.00}'"
      ]
     },
     "execution_count": 38,
     "metadata": {},
     "output_type": "execute_result"
    }
   ],
   "source": [
    "complaints[3401]"
   ]
  },
  {
   "cell_type": "markdown",
   "metadata": {},
   "source": [
    "### Tokenize the text"
   ]
  },
  {
   "cell_type": "code",
   "execution_count": 39,
   "metadata": {},
   "outputs": [
    {
     "name": "stderr",
     "output_type": "stream",
     "text": [
      "100%|██████████| 809343/809343 [11:20<00:00, 1189.95it/s]\n"
     ]
    }
   ],
   "source": [
    "tokens = [word_tokenize(complaint) for complaint in tqdm(complaints)]"
   ]
  },
  {
   "cell_type": "code",
   "execution_count": 40,
   "metadata": {},
   "outputs": [
    {
     "data": {
      "text/plain": [
       "['my',\n",
       " 'credit',\n",
       " 'reports',\n",
       " 'list',\n",
       " 'monies',\n",
       " 'owed',\n",
       " 'to',\n",
       " 'xxxx',\n",
       " '.',\n",
       " 'i',\n",
       " 'have',\n",
       " 'written',\n",
       " 'to',\n",
       " 'the',\n",
       " 'collection',\n",
       " 'agency',\n",
       " ',',\n",
       " 'xxxx',\n",
       " 'xxxx',\n",
       " 'xxxx',\n",
       " 'requesting',\n",
       " 'proof',\n",
       " 'that',\n",
       " 'i',\n",
       " 'owe',\n",
       " 'monies',\n",
       " 'on',\n",
       " 'this',\n",
       " 'account',\n",
       " ',',\n",
       " 'but',\n",
       " 'none',\n",
       " 'was',\n",
       " 'ever',\n",
       " 'sent',\n",
       " '.',\n",
       " 'i',\n",
       " 'notified',\n",
       " 'the',\n",
       " 'credit',\n",
       " 'agencies',\n",
       " 'that',\n",
       " 'this',\n",
       " 'creditor',\n",
       " 'never',\n",
       " 'sent',\n",
       " 'me',\n",
       " 'the',\n",
       " 'required',\n",
       " 'proof',\n",
       " ',',\n",
       " 'yet',\n",
       " 'they',\n",
       " 'continue',\n",
       " 'to',\n",
       " 'list',\n",
       " 'this',\n",
       " 'account',\n",
       " 'on',\n",
       " 'my',\n",
       " 'credit',\n",
       " 'report',\n",
       " '.',\n",
       " 'my',\n",
       " 'credit',\n",
       " 'reports',\n",
       " 'list',\n",
       " 'xxxx',\n",
       " 'xxxx',\n",
       " 'xxxx',\n",
       " 'and',\n",
       " 'xxxx',\n",
       " 'for',\n",
       " 'monies',\n",
       " 'owed',\n",
       " 'to',\n",
       " 'xxxx',\n",
       " '.',\n",
       " 'i',\n",
       " 'submitted',\n",
       " 'documentation',\n",
       " 'that',\n",
       " 'showed',\n",
       " 'that',\n",
       " 'the',\n",
       " 'original',\n",
       " 'creditor',\n",
       " 'was',\n",
       " 'paid',\n",
       " 'however',\n",
       " ',',\n",
       " 'the',\n",
       " 'credit',\n",
       " 'reporting',\n",
       " 'agencies',\n",
       " 'continue',\n",
       " 'to',\n",
       " 'list',\n",
       " 'xxxx',\n",
       " 'xxxx',\n",
       " 'on',\n",
       " 'my',\n",
       " 'credit',\n",
       " 'report',\n",
       " '.',\n",
       " 'furthermore',\n",
       " ',',\n",
       " 'two',\n",
       " 'separate',\n",
       " 'collection',\n",
       " 'agencies',\n",
       " 'can',\n",
       " 'not',\n",
       " 'be',\n",
       " 'listed',\n",
       " 'on',\n",
       " 'my',\n",
       " 'creditreport',\n",
       " 'over',\n",
       " 'the',\n",
       " 'same',\n",
       " 'account',\n",
       " '.',\n",
       " 'my',\n",
       " 'credit',\n",
       " 'reports',\n",
       " 'list',\n",
       " 'a',\n",
       " 'bankruptcy',\n",
       " 'that',\n",
       " 'should',\n",
       " 'have',\n",
       " 'been',\n",
       " 'deleted',\n",
       " 'since',\n",
       " 'the',\n",
       " '7',\n",
       " 'years',\n",
       " 'of',\n",
       " 'reporting',\n",
       " 'it',\n",
       " 'has',\n",
       " 'expired',\n",
       " '.']"
      ]
     },
     "execution_count": 40,
     "metadata": {},
     "output_type": "execute_result"
    }
   ],
   "source": [
    "tokens[13]"
   ]
  },
  {
   "cell_type": "code",
   "execution_count": 41,
   "metadata": {},
   "outputs": [
    {
     "data": {
      "text/plain": [
       "['xxxx',\n",
       " 'xxxx',\n",
       " 'sent',\n",
       " 'me',\n",
       " 'a',\n",
       " 'email',\n",
       " 'that',\n",
       " 'it',\n",
       " 'looked',\n",
       " 'like',\n",
       " 'my',\n",
       " 'personal',\n",
       " 'data',\n",
       " 'may',\n",
       " 'had',\n",
       " 'been',\n",
       " 'compromised',\n",
       " '.',\n",
       " 'i',\n",
       " 'opened',\n",
       " 'it',\n",
       " 'up',\n",
       " 'and',\n",
       " 'reviewed',\n",
       " 'everything',\n",
       " 'and',\n",
       " 'there',\n",
       " 'was',\n",
       " 'several',\n",
       " 'unknown',\n",
       " 'inquiries',\n",
       " 'and',\n",
       " 'accounts',\n",
       " 'that',\n",
       " 'certainly',\n",
       " 'did',\n",
       " 'not',\n",
       " 'belong',\n",
       " 'to',\n",
       " 'me',\n",
       " '.',\n",
       " 'i',\n",
       " 'pulled',\n",
       " 'my',\n",
       " 'credit',\n",
       " 'to',\n",
       " 'make',\n",
       " 'sure',\n",
       " ',',\n",
       " 'and',\n",
       " 'these',\n",
       " 'accounts',\n",
       " 'i',\n",
       " 'am',\n",
       " 'reporting',\n",
       " 'are',\n",
       " 'definitely',\n",
       " 'not',\n",
       " 'mine',\n",
       " '.',\n",
       " 'please',\n",
       " 'remove',\n",
       " 'these',\n",
       " 'items',\n",
       " 'from',\n",
       " 'my',\n",
       " 'report',\n",
       " '.',\n",
       " 'bankruptcy',\n",
       " 'chapter',\n",
       " 'xxxx-dismissed',\n",
       " 'xxxx',\n",
       " '{',\n",
       " '$',\n",
       " '0.00',\n",
       " '}']"
      ]
     },
     "execution_count": 41,
     "metadata": {},
     "output_type": "execute_result"
    }
   ],
   "source": [
    "tokens[3401]"
   ]
  },
  {
   "cell_type": "markdown",
   "metadata": {},
   "source": [
    "### Remove Stopwords"
   ]
  },
  {
   "cell_type": "code",
   "execution_count": 42,
   "metadata": {},
   "outputs": [],
   "source": [
    "sw = stopwords.words('english')"
   ]
  },
  {
   "cell_type": "code",
   "execution_count": 43,
   "metadata": {},
   "outputs": [
    {
     "data": {
      "text/plain": [
       "['i', 'me', 'my', 'myself', 'we', 'our', 'ours', 'ourselves', 'you', \"you're\"]"
      ]
     },
     "execution_count": 43,
     "metadata": {},
     "output_type": "execute_result"
    }
   ],
   "source": [
    "sw[:10]"
   ]
  },
  {
   "cell_type": "code",
   "execution_count": 44,
   "metadata": {},
   "outputs": [],
   "source": [
    "tokens = [[word for word in token if word not in sw] for token in tokens]"
   ]
  },
  {
   "cell_type": "markdown",
   "metadata": {},
   "source": [
    "#### Remove punctuation marks"
   ]
  },
  {
   "cell_type": "code",
   "execution_count": 45,
   "metadata": {},
   "outputs": [],
   "source": [
    "tokenizer = RegexpTokenizer(r'\\w+')"
   ]
  },
  {
   "cell_type": "code",
   "execution_count": 46,
   "metadata": {},
   "outputs": [
    {
     "name": "stderr",
     "output_type": "stream",
     "text": [
      "100%|██████████| 809343/809343 [01:26<00:00, 9335.52it/s] \n"
     ]
    }
   ],
   "source": [
    "tokens = [[''.join(tokenizer.tokenize(word)) for word in token if len(tokenizer.tokenize(word))>0]  for token in tqdm(tokens)]"
   ]
  },
  {
   "cell_type": "code",
   "execution_count": 47,
   "metadata": {},
   "outputs": [
    {
     "data": {
      "text/plain": [
       "['credit',\n",
       " 'reports',\n",
       " 'list',\n",
       " 'monies',\n",
       " 'owed',\n",
       " 'xxxx',\n",
       " 'written',\n",
       " 'collection',\n",
       " 'agency',\n",
       " 'xxxx',\n",
       " 'xxxx',\n",
       " 'xxxx',\n",
       " 'requesting',\n",
       " 'proof',\n",
       " 'owe',\n",
       " 'monies',\n",
       " 'account',\n",
       " 'none',\n",
       " 'ever',\n",
       " 'sent',\n",
       " 'notified',\n",
       " 'credit',\n",
       " 'agencies',\n",
       " 'creditor',\n",
       " 'never',\n",
       " 'sent',\n",
       " 'required',\n",
       " 'proof',\n",
       " 'yet',\n",
       " 'continue',\n",
       " 'list',\n",
       " 'account',\n",
       " 'credit',\n",
       " 'report',\n",
       " 'credit',\n",
       " 'reports',\n",
       " 'list',\n",
       " 'xxxx',\n",
       " 'xxxx',\n",
       " 'xxxx',\n",
       " 'xxxx',\n",
       " 'monies',\n",
       " 'owed',\n",
       " 'xxxx',\n",
       " 'submitted',\n",
       " 'documentation',\n",
       " 'showed',\n",
       " 'original',\n",
       " 'creditor',\n",
       " 'paid',\n",
       " 'however',\n",
       " 'credit',\n",
       " 'reporting',\n",
       " 'agencies',\n",
       " 'continue',\n",
       " 'list',\n",
       " 'xxxx',\n",
       " 'xxxx',\n",
       " 'credit',\n",
       " 'report',\n",
       " 'furthermore',\n",
       " 'two',\n",
       " 'separate',\n",
       " 'collection',\n",
       " 'agencies',\n",
       " 'listed',\n",
       " 'creditreport',\n",
       " 'account',\n",
       " 'credit',\n",
       " 'reports',\n",
       " 'list',\n",
       " 'bankruptcy',\n",
       " 'deleted',\n",
       " 'since',\n",
       " '7',\n",
       " 'years',\n",
       " 'reporting',\n",
       " 'expired']"
      ]
     },
     "execution_count": 47,
     "metadata": {},
     "output_type": "execute_result"
    }
   ],
   "source": [
    "tokens[13]"
   ]
  },
  {
   "cell_type": "code",
   "execution_count": 48,
   "metadata": {},
   "outputs": [
    {
     "data": {
      "text/plain": [
       "['xxxx',\n",
       " 'xxxx',\n",
       " 'sent',\n",
       " 'email',\n",
       " 'looked',\n",
       " 'like',\n",
       " 'personal',\n",
       " 'data',\n",
       " 'may',\n",
       " 'compromised',\n",
       " 'opened',\n",
       " 'reviewed',\n",
       " 'everything',\n",
       " 'several',\n",
       " 'unknown',\n",
       " 'inquiries',\n",
       " 'accounts',\n",
       " 'certainly',\n",
       " 'belong',\n",
       " 'pulled',\n",
       " 'credit',\n",
       " 'make',\n",
       " 'sure',\n",
       " 'accounts',\n",
       " 'reporting',\n",
       " 'definitely',\n",
       " 'mine',\n",
       " 'please',\n",
       " 'remove',\n",
       " 'items',\n",
       " 'report',\n",
       " 'bankruptcy',\n",
       " 'chapter',\n",
       " 'xxxxdismissed',\n",
       " 'xxxx',\n",
       " '000']"
      ]
     },
     "execution_count": 48,
     "metadata": {},
     "output_type": "execute_result"
    }
   ],
   "source": [
    "tokens[3401]"
   ]
  },
  {
   "cell_type": "markdown",
   "metadata": {},
   "source": [
    "#### Remove 'xxxx' and '000' tokens"
   ]
  },
  {
   "cell_type": "code",
   "execution_count": 49,
   "metadata": {},
   "outputs": [
    {
     "name": "stderr",
     "output_type": "stream",
     "text": [
      "100%|██████████| 809343/809343 [00:10<00:00, 74128.40it/s] \n"
     ]
    }
   ],
   "source": [
    "tokens = [[t for t in token if t not in ['xxxx', '000']] for token in tqdm(tokens)]"
   ]
  },
  {
   "cell_type": "code",
   "execution_count": 50,
   "metadata": {},
   "outputs": [
    {
     "data": {
      "text/plain": [
       "['credit',\n",
       " 'reports',\n",
       " 'list',\n",
       " 'monies',\n",
       " 'owed',\n",
       " 'written',\n",
       " 'collection',\n",
       " 'agency',\n",
       " 'requesting',\n",
       " 'proof',\n",
       " 'owe',\n",
       " 'monies',\n",
       " 'account',\n",
       " 'none',\n",
       " 'ever',\n",
       " 'sent',\n",
       " 'notified',\n",
       " 'credit',\n",
       " 'agencies',\n",
       " 'creditor',\n",
       " 'never',\n",
       " 'sent',\n",
       " 'required',\n",
       " 'proof',\n",
       " 'yet',\n",
       " 'continue',\n",
       " 'list',\n",
       " 'account',\n",
       " 'credit',\n",
       " 'report',\n",
       " 'credit',\n",
       " 'reports',\n",
       " 'list',\n",
       " 'monies',\n",
       " 'owed',\n",
       " 'submitted',\n",
       " 'documentation',\n",
       " 'showed',\n",
       " 'original',\n",
       " 'creditor',\n",
       " 'paid',\n",
       " 'however',\n",
       " 'credit',\n",
       " 'reporting',\n",
       " 'agencies',\n",
       " 'continue',\n",
       " 'list',\n",
       " 'credit',\n",
       " 'report',\n",
       " 'furthermore',\n",
       " 'two',\n",
       " 'separate',\n",
       " 'collection',\n",
       " 'agencies',\n",
       " 'listed',\n",
       " 'creditreport',\n",
       " 'account',\n",
       " 'credit',\n",
       " 'reports',\n",
       " 'list',\n",
       " 'bankruptcy',\n",
       " 'deleted',\n",
       " 'since',\n",
       " '7',\n",
       " 'years',\n",
       " 'reporting',\n",
       " 'expired']"
      ]
     },
     "execution_count": 50,
     "metadata": {},
     "output_type": "execute_result"
    }
   ],
   "source": [
    "tokens[13]"
   ]
  },
  {
   "cell_type": "code",
   "execution_count": 51,
   "metadata": {},
   "outputs": [
    {
     "data": {
      "text/plain": [
       "['sent',\n",
       " 'email',\n",
       " 'looked',\n",
       " 'like',\n",
       " 'personal',\n",
       " 'data',\n",
       " 'may',\n",
       " 'compromised',\n",
       " 'opened',\n",
       " 'reviewed',\n",
       " 'everything',\n",
       " 'several',\n",
       " 'unknown',\n",
       " 'inquiries',\n",
       " 'accounts',\n",
       " 'certainly',\n",
       " 'belong',\n",
       " 'pulled',\n",
       " 'credit',\n",
       " 'make',\n",
       " 'sure',\n",
       " 'accounts',\n",
       " 'reporting',\n",
       " 'definitely',\n",
       " 'mine',\n",
       " 'please',\n",
       " 'remove',\n",
       " 'items',\n",
       " 'report',\n",
       " 'bankruptcy',\n",
       " 'chapter',\n",
       " 'xxxxdismissed']"
      ]
     },
     "execution_count": 51,
     "metadata": {},
     "output_type": "execute_result"
    }
   ],
   "source": [
    "tokens[3401]"
   ]
  },
  {
   "cell_type": "markdown",
   "metadata": {},
   "source": [
    "#### Check word count for couple of classes"
   ]
  },
  {
   "cell_type": "code",
   "execution_count": 52,
   "metadata": {},
   "outputs": [],
   "source": [
    "data['clean_complaints'] = tokens"
   ]
  },
  {
   "cell_type": "code",
   "execution_count": 53,
   "metadata": {},
   "outputs": [
    {
     "data": {
      "text/html": [
       "<div>\n",
       "<style scoped>\n",
       "    .dataframe tbody tr th:only-of-type {\n",
       "        vertical-align: middle;\n",
       "    }\n",
       "\n",
       "    .dataframe tbody tr th {\n",
       "        vertical-align: top;\n",
       "    }\n",
       "\n",
       "    .dataframe thead th {\n",
       "        text-align: right;\n",
       "    }\n",
       "</style>\n",
       "<table border=\"1\" class=\"dataframe\">\n",
       "  <thead>\n",
       "    <tr style=\"text-align: right;\">\n",
       "      <th></th>\n",
       "      <th>Product</th>\n",
       "      <th>Complaint</th>\n",
       "      <th>clean_complaints</th>\n",
       "    </tr>\n",
       "  </thead>\n",
       "  <tbody>\n",
       "    <tr>\n",
       "      <th>1</th>\n",
       "      <td>Vehicle loan or lease</td>\n",
       "      <td>I contacted Ally on Friday XX/XX/XXXX after fa...</td>\n",
       "      <td>[contacted, ally, friday, xxxxxxxx, falling, b...</td>\n",
       "    </tr>\n",
       "    <tr>\n",
       "      <th>7</th>\n",
       "      <td>credit_report</td>\n",
       "      <td>Hello This complaint is against the three cred...</td>\n",
       "      <td>[hello, complaint, three, credit, reporting, c...</td>\n",
       "    </tr>\n",
       "    <tr>\n",
       "      <th>8</th>\n",
       "      <td>credit_report</td>\n",
       "      <td>I am a victim of Identity Theft &amp; currently ha...</td>\n",
       "      <td>[victim, identity, theft, currently, experian,...</td>\n",
       "    </tr>\n",
       "    <tr>\n",
       "      <th>10</th>\n",
       "      <td>credit_report</td>\n",
       "      <td>Two accounts are still on my credit history af...</td>\n",
       "      <td>[two, accounts, still, credit, history, contac...</td>\n",
       "    </tr>\n",
       "    <tr>\n",
       "      <th>13</th>\n",
       "      <td>credit_report</td>\n",
       "      <td>Receiving daily telephone call ( s ) from XXXX...</td>\n",
       "      <td>[receiving, daily, telephone, call, identifyin...</td>\n",
       "    </tr>\n",
       "  </tbody>\n",
       "</table>\n",
       "</div>"
      ],
      "text/plain": [
       "                  Product                                          Complaint  \\\n",
       "1   Vehicle loan or lease  I contacted Ally on Friday XX/XX/XXXX after fa...   \n",
       "7           credit_report  Hello This complaint is against the three cred...   \n",
       "8           credit_report  I am a victim of Identity Theft & currently ha...   \n",
       "10          credit_report  Two accounts are still on my credit history af...   \n",
       "13          credit_report  Receiving daily telephone call ( s ) from XXXX...   \n",
       "\n",
       "                                     clean_complaints  \n",
       "1   [contacted, ally, friday, xxxxxxxx, falling, b...  \n",
       "7   [hello, complaint, three, credit, reporting, c...  \n",
       "8   [victim, identity, theft, currently, experian,...  \n",
       "10  [two, accounts, still, credit, history, contac...  \n",
       "13  [receiving, daily, telephone, call, identifyin...  "
      ]
     },
     "execution_count": 53,
     "metadata": {},
     "output_type": "execute_result"
    }
   ],
   "source": [
    "data.head()"
   ]
  },
  {
   "cell_type": "code",
   "execution_count": 54,
   "metadata": {},
   "outputs": [],
   "source": [
    "loan_complaints = list(data[data['Product']=='loan']['clean_complaints'])"
   ]
  },
  {
   "cell_type": "code",
   "execution_count": 55,
   "metadata": {},
   "outputs": [
    {
     "name": "stderr",
     "output_type": "stream",
     "text": [
      "100%|██████████| 50710/50710 [00:00<00:00, 143856.81it/s]\n"
     ]
    }
   ],
   "source": [
    "loan_complaints = [token for complaint in tqdm(loan_complaints) for token in complaint]"
   ]
  },
  {
   "cell_type": "code",
   "execution_count": 56,
   "metadata": {},
   "outputs": [],
   "source": [
    "counter = Counter(loan_complaints)"
   ]
  },
  {
   "cell_type": "code",
   "execution_count": 57,
   "metadata": {},
   "outputs": [
    {
     "data": {
      "text/plain": [
       "[('loan', 108721),\n",
       " ('payment', 69612),\n",
       " ('xxxxxxxx', 54859),\n",
       " ('payments', 54658),\n",
       " ('would', 51778),\n",
       " ('loans', 49381),\n",
       " ('account', 44823),\n",
       " ('credit', 40709),\n",
       " ('told', 38378),\n",
       " ('pay', 36730)]"
      ]
     },
     "execution_count": 57,
     "metadata": {},
     "output_type": "execute_result"
    }
   ],
   "source": [
    "counter.most_common(10)"
   ]
  },
  {
   "cell_type": "code",
   "execution_count": 58,
   "metadata": {},
   "outputs": [],
   "source": [
    "card_complaints = list(data[data['Product'] == 'card']['clean_complaints'])"
   ]
  },
  {
   "cell_type": "code",
   "execution_count": 59,
   "metadata": {},
   "outputs": [
    {
     "name": "stderr",
     "output_type": "stream",
     "text": [
      "100%|██████████| 81042/81042 [00:00<00:00, 143256.04it/s]\n"
     ]
    }
   ],
   "source": [
    "card_complaints = [token for complaint in tqdm(card_complaints) for token in complaint]\n"
   ]
  },
  {
   "cell_type": "code",
   "execution_count": 60,
   "metadata": {},
   "outputs": [],
   "source": [
    "counter = Counter(card_complaints)"
   ]
  },
  {
   "cell_type": "code",
   "execution_count": 61,
   "metadata": {},
   "outputs": [
    {
     "data": {
      "text/plain": [
       "[('card', 188911),\n",
       " ('credit', 180949),\n",
       " ('account', 143171),\n",
       " ('xxxxxxxx', 95253),\n",
       " ('would', 74332),\n",
       " ('bank', 68126),\n",
       " ('payment', 68015),\n",
       " ('told', 57508),\n",
       " ('called', 53979),\n",
       " ('one', 53750)]"
      ]
     },
     "execution_count": 61,
     "metadata": {},
     "output_type": "execute_result"
    }
   ],
   "source": [
    "counter.most_common(10)"
   ]
  },
  {
   "cell_type": "code",
   "execution_count": 62,
   "metadata": {},
   "outputs": [
    {
     "name": "stderr",
     "output_type": "stream",
     "text": [
      "100%|██████████| 809343/809343 [00:31<00:00, 25785.63it/s]\n"
     ]
    }
   ],
   "source": [
    "counter = Counter([token for complaint in tqdm(complaints) for token in complaint])"
   ]
  },
  {
   "cell_type": "code",
   "execution_count": 63,
   "metadata": {},
   "outputs": [
    {
     "data": {
      "text/plain": [
       "[(' ', 154315142),\n",
       " ('e', 77750376),\n",
       " ('t', 63340719),\n",
       " ('a', 53491600),\n",
       " ('o', 47641782),\n",
       " ('i', 47302521),\n",
       " ('n', 46221907),\n",
       " ('x', 38041420),\n",
       " ('r', 36643770),\n",
       " ('s', 34239710)]"
      ]
     },
     "execution_count": 63,
     "metadata": {},
     "output_type": "execute_result"
    }
   ],
   "source": [
    "counter.most_common(10)"
   ]
  },
  {
   "cell_type": "code",
   "execution_count": 64,
   "metadata": {},
   "outputs": [
    {
     "data": {
      "text/plain": [
       "104"
      ]
     },
     "execution_count": 64,
     "metadata": {},
     "output_type": "execute_result"
    }
   ],
   "source": [
    "len(counter.keys())"
   ]
  },
  {
   "cell_type": "code",
   "execution_count": 65,
   "metadata": {},
   "outputs": [
    {
     "name": "stderr",
     "output_type": "stream",
     "text": [
      "100%|██████████| 809343/809343 [00:02<00:00, 290881.64it/s]\n"
     ]
    }
   ],
   "source": [
    "clean_complaints = [' '.join(complaint) for complaint in tqdm(data['clean_complaints'])]"
   ]
  },
  {
   "cell_type": "code",
   "execution_count": 66,
   "metadata": {},
   "outputs": [
    {
     "data": {
      "text/plain": [
       "'credit reports list monies owed written collection agency requesting proof owe monies account none ever sent notified credit agencies creditor never sent required proof yet continue list account credit report credit reports list monies owed submitted documentation showed original creditor paid however credit reporting agencies continue list credit report furthermore two separate collection agencies listed creditreport account credit reports list bankruptcy deleted since 7 years reporting expired'"
      ]
     },
     "execution_count": 66,
     "metadata": {},
     "output_type": "execute_result"
    }
   ],
   "source": [
    "clean_complaints[13]"
   ]
  },
  {
   "cell_type": "code",
   "execution_count": 67,
   "metadata": {},
   "outputs": [
    {
     "data": {
      "text/plain": [
       "'sent email looked like personal data may compromised opened reviewed everything several unknown inquiries accounts certainly belong pulled credit make sure accounts reporting definitely mine please remove items report bankruptcy chapter xxxxdismissed'"
      ]
     },
     "execution_count": 67,
     "metadata": {},
     "output_type": "execute_result"
    }
   ],
   "source": [
    "clean_complaints[3401]"
   ]
  },
  {
   "cell_type": "markdown",
   "metadata": {},
   "source": [
    "### Data Preprocessing"
   ]
  },
  {
   "cell_type": "markdown",
   "metadata": {},
   "source": [
    "#### Vectorize the data"
   ]
  },
  {
   "cell_type": "code",
   "execution_count": 68,
   "metadata": {},
   "outputs": [],
   "source": [
    "vect = CountVectorizer(min_df=200)"
   ]
  },
  {
   "cell_type": "code",
   "execution_count": 69,
   "metadata": {},
   "outputs": [],
   "source": [
    "X = vect.fit_transform(clean_complaints)"
   ]
  },
  {
   "cell_type": "code",
   "execution_count": 70,
   "metadata": {},
   "outputs": [
    {
     "data": {
      "text/plain": [
       "(809343, 8547)"
      ]
     },
     "execution_count": 70,
     "metadata": {},
     "output_type": "execute_result"
    }
   ],
   "source": [
    "X.shape"
   ]
  },
  {
   "cell_type": "code",
   "execution_count": 71,
   "metadata": {},
   "outputs": [],
   "source": [
    "y = data['Product']"
   ]
  },
  {
   "cell_type": "markdown",
   "metadata": {},
   "source": [
    "#### Split the data into train and test"
   ]
  },
  {
   "cell_type": "code",
   "execution_count": 72,
   "metadata": {},
   "outputs": [],
   "source": [
    "X_train, X_test, y_train, y_test = train_test_split(X, y, test_size=0.2, stratify=y, random_state=42)"
   ]
  },
  {
   "cell_type": "code",
   "execution_count": 73,
   "metadata": {},
   "outputs": [
    {
     "name": "stdout",
     "output_type": "stream",
     "text": [
      "(647474, 8547) (161869, 8547) (647474,) (161869,)\n"
     ]
    }
   ],
   "source": [
    "print(X_train.shape, X_test.shape, y_train.shape, y_test.shape)"
   ]
  },
  {
   "cell_type": "markdown",
   "metadata": {},
   "source": [
    "### Model Training"
   ]
  },
  {
   "cell_type": "markdown",
   "metadata": {},
   "source": [
    "#### Create a multi-nomial Naive Bayes' Model"
   ]
  },
  {
   "cell_type": "code",
   "execution_count": 74,
   "metadata": {},
   "outputs": [],
   "source": [
    "model = MultinomialNB()"
   ]
  },
  {
   "cell_type": "code",
   "execution_count": 75,
   "metadata": {},
   "outputs": [
    {
     "data": {
      "text/html": [
       "<style>#sk-container-id-1 {\n",
       "  /* Definition of color scheme common for light and dark mode */\n",
       "  --sklearn-color-text: #000;\n",
       "  --sklearn-color-text-muted: #666;\n",
       "  --sklearn-color-line: gray;\n",
       "  /* Definition of color scheme for unfitted estimators */\n",
       "  --sklearn-color-unfitted-level-0: #fff5e6;\n",
       "  --sklearn-color-unfitted-level-1: #f6e4d2;\n",
       "  --sklearn-color-unfitted-level-2: #ffe0b3;\n",
       "  --sklearn-color-unfitted-level-3: chocolate;\n",
       "  /* Definition of color scheme for fitted estimators */\n",
       "  --sklearn-color-fitted-level-0: #f0f8ff;\n",
       "  --sklearn-color-fitted-level-1: #d4ebff;\n",
       "  --sklearn-color-fitted-level-2: #b3dbfd;\n",
       "  --sklearn-color-fitted-level-3: cornflowerblue;\n",
       "\n",
       "  /* Specific color for light theme */\n",
       "  --sklearn-color-text-on-default-background: var(--sg-text-color, var(--theme-code-foreground, var(--jp-content-font-color1, black)));\n",
       "  --sklearn-color-background: var(--sg-background-color, var(--theme-background, var(--jp-layout-color0, white)));\n",
       "  --sklearn-color-border-box: var(--sg-text-color, var(--theme-code-foreground, var(--jp-content-font-color1, black)));\n",
       "  --sklearn-color-icon: #696969;\n",
       "\n",
       "  @media (prefers-color-scheme: dark) {\n",
       "    /* Redefinition of color scheme for dark theme */\n",
       "    --sklearn-color-text-on-default-background: var(--sg-text-color, var(--theme-code-foreground, var(--jp-content-font-color1, white)));\n",
       "    --sklearn-color-background: var(--sg-background-color, var(--theme-background, var(--jp-layout-color0, #111)));\n",
       "    --sklearn-color-border-box: var(--sg-text-color, var(--theme-code-foreground, var(--jp-content-font-color1, white)));\n",
       "    --sklearn-color-icon: #878787;\n",
       "  }\n",
       "}\n",
       "\n",
       "#sk-container-id-1 {\n",
       "  color: var(--sklearn-color-text);\n",
       "}\n",
       "\n",
       "#sk-container-id-1 pre {\n",
       "  padding: 0;\n",
       "}\n",
       "\n",
       "#sk-container-id-1 input.sk-hidden--visually {\n",
       "  border: 0;\n",
       "  clip: rect(1px 1px 1px 1px);\n",
       "  clip: rect(1px, 1px, 1px, 1px);\n",
       "  height: 1px;\n",
       "  margin: -1px;\n",
       "  overflow: hidden;\n",
       "  padding: 0;\n",
       "  position: absolute;\n",
       "  width: 1px;\n",
       "}\n",
       "\n",
       "#sk-container-id-1 div.sk-dashed-wrapped {\n",
       "  border: 1px dashed var(--sklearn-color-line);\n",
       "  margin: 0 0.4em 0.5em 0.4em;\n",
       "  box-sizing: border-box;\n",
       "  padding-bottom: 0.4em;\n",
       "  background-color: var(--sklearn-color-background);\n",
       "}\n",
       "\n",
       "#sk-container-id-1 div.sk-container {\n",
       "  /* jupyter's `normalize.less` sets `[hidden] { display: none; }`\n",
       "     but bootstrap.min.css set `[hidden] { display: none !important; }`\n",
       "     so we also need the `!important` here to be able to override the\n",
       "     default hidden behavior on the sphinx rendered scikit-learn.org.\n",
       "     See: https://github.com/scikit-learn/scikit-learn/issues/21755 */\n",
       "  display: inline-block !important;\n",
       "  position: relative;\n",
       "}\n",
       "\n",
       "#sk-container-id-1 div.sk-text-repr-fallback {\n",
       "  display: none;\n",
       "}\n",
       "\n",
       "div.sk-parallel-item,\n",
       "div.sk-serial,\n",
       "div.sk-item {\n",
       "  /* draw centered vertical line to link estimators */\n",
       "  background-image: linear-gradient(var(--sklearn-color-text-on-default-background), var(--sklearn-color-text-on-default-background));\n",
       "  background-size: 2px 100%;\n",
       "  background-repeat: no-repeat;\n",
       "  background-position: center center;\n",
       "}\n",
       "\n",
       "/* Parallel-specific style estimator block */\n",
       "\n",
       "#sk-container-id-1 div.sk-parallel-item::after {\n",
       "  content: \"\";\n",
       "  width: 100%;\n",
       "  border-bottom: 2px solid var(--sklearn-color-text-on-default-background);\n",
       "  flex-grow: 1;\n",
       "}\n",
       "\n",
       "#sk-container-id-1 div.sk-parallel {\n",
       "  display: flex;\n",
       "  align-items: stretch;\n",
       "  justify-content: center;\n",
       "  background-color: var(--sklearn-color-background);\n",
       "  position: relative;\n",
       "}\n",
       "\n",
       "#sk-container-id-1 div.sk-parallel-item {\n",
       "  display: flex;\n",
       "  flex-direction: column;\n",
       "}\n",
       "\n",
       "#sk-container-id-1 div.sk-parallel-item:first-child::after {\n",
       "  align-self: flex-end;\n",
       "  width: 50%;\n",
       "}\n",
       "\n",
       "#sk-container-id-1 div.sk-parallel-item:last-child::after {\n",
       "  align-self: flex-start;\n",
       "  width: 50%;\n",
       "}\n",
       "\n",
       "#sk-container-id-1 div.sk-parallel-item:only-child::after {\n",
       "  width: 0;\n",
       "}\n",
       "\n",
       "/* Serial-specific style estimator block */\n",
       "\n",
       "#sk-container-id-1 div.sk-serial {\n",
       "  display: flex;\n",
       "  flex-direction: column;\n",
       "  align-items: center;\n",
       "  background-color: var(--sklearn-color-background);\n",
       "  padding-right: 1em;\n",
       "  padding-left: 1em;\n",
       "}\n",
       "\n",
       "\n",
       "/* Toggleable style: style used for estimator/Pipeline/ColumnTransformer box that is\n",
       "clickable and can be expanded/collapsed.\n",
       "- Pipeline and ColumnTransformer use this feature and define the default style\n",
       "- Estimators will overwrite some part of the style using the `sk-estimator` class\n",
       "*/\n",
       "\n",
       "/* Pipeline and ColumnTransformer style (default) */\n",
       "\n",
       "#sk-container-id-1 div.sk-toggleable {\n",
       "  /* Default theme specific background. It is overwritten whether we have a\n",
       "  specific estimator or a Pipeline/ColumnTransformer */\n",
       "  background-color: var(--sklearn-color-background);\n",
       "}\n",
       "\n",
       "/* Toggleable label */\n",
       "#sk-container-id-1 label.sk-toggleable__label {\n",
       "  cursor: pointer;\n",
       "  display: flex;\n",
       "  width: 100%;\n",
       "  margin-bottom: 0;\n",
       "  padding: 0.5em;\n",
       "  box-sizing: border-box;\n",
       "  text-align: center;\n",
       "  align-items: start;\n",
       "  justify-content: space-between;\n",
       "  gap: 0.5em;\n",
       "}\n",
       "\n",
       "#sk-container-id-1 label.sk-toggleable__label .caption {\n",
       "  font-size: 0.6rem;\n",
       "  font-weight: lighter;\n",
       "  color: var(--sklearn-color-text-muted);\n",
       "}\n",
       "\n",
       "#sk-container-id-1 label.sk-toggleable__label-arrow:before {\n",
       "  /* Arrow on the left of the label */\n",
       "  content: \"▸\";\n",
       "  float: left;\n",
       "  margin-right: 0.25em;\n",
       "  color: var(--sklearn-color-icon);\n",
       "}\n",
       "\n",
       "#sk-container-id-1 label.sk-toggleable__label-arrow:hover:before {\n",
       "  color: var(--sklearn-color-text);\n",
       "}\n",
       "\n",
       "/* Toggleable content - dropdown */\n",
       "\n",
       "#sk-container-id-1 div.sk-toggleable__content {\n",
       "  max-height: 0;\n",
       "  max-width: 0;\n",
       "  overflow: hidden;\n",
       "  text-align: left;\n",
       "  /* unfitted */\n",
       "  background-color: var(--sklearn-color-unfitted-level-0);\n",
       "}\n",
       "\n",
       "#sk-container-id-1 div.sk-toggleable__content.fitted {\n",
       "  /* fitted */\n",
       "  background-color: var(--sklearn-color-fitted-level-0);\n",
       "}\n",
       "\n",
       "#sk-container-id-1 div.sk-toggleable__content pre {\n",
       "  margin: 0.2em;\n",
       "  border-radius: 0.25em;\n",
       "  color: var(--sklearn-color-text);\n",
       "  /* unfitted */\n",
       "  background-color: var(--sklearn-color-unfitted-level-0);\n",
       "}\n",
       "\n",
       "#sk-container-id-1 div.sk-toggleable__content.fitted pre {\n",
       "  /* unfitted */\n",
       "  background-color: var(--sklearn-color-fitted-level-0);\n",
       "}\n",
       "\n",
       "#sk-container-id-1 input.sk-toggleable__control:checked~div.sk-toggleable__content {\n",
       "  /* Expand drop-down */\n",
       "  max-height: 200px;\n",
       "  max-width: 100%;\n",
       "  overflow: auto;\n",
       "}\n",
       "\n",
       "#sk-container-id-1 input.sk-toggleable__control:checked~label.sk-toggleable__label-arrow:before {\n",
       "  content: \"▾\";\n",
       "}\n",
       "\n",
       "/* Pipeline/ColumnTransformer-specific style */\n",
       "\n",
       "#sk-container-id-1 div.sk-label input.sk-toggleable__control:checked~label.sk-toggleable__label {\n",
       "  color: var(--sklearn-color-text);\n",
       "  background-color: var(--sklearn-color-unfitted-level-2);\n",
       "}\n",
       "\n",
       "#sk-container-id-1 div.sk-label.fitted input.sk-toggleable__control:checked~label.sk-toggleable__label {\n",
       "  background-color: var(--sklearn-color-fitted-level-2);\n",
       "}\n",
       "\n",
       "/* Estimator-specific style */\n",
       "\n",
       "/* Colorize estimator box */\n",
       "#sk-container-id-1 div.sk-estimator input.sk-toggleable__control:checked~label.sk-toggleable__label {\n",
       "  /* unfitted */\n",
       "  background-color: var(--sklearn-color-unfitted-level-2);\n",
       "}\n",
       "\n",
       "#sk-container-id-1 div.sk-estimator.fitted input.sk-toggleable__control:checked~label.sk-toggleable__label {\n",
       "  /* fitted */\n",
       "  background-color: var(--sklearn-color-fitted-level-2);\n",
       "}\n",
       "\n",
       "#sk-container-id-1 div.sk-label label.sk-toggleable__label,\n",
       "#sk-container-id-1 div.sk-label label {\n",
       "  /* The background is the default theme color */\n",
       "  color: var(--sklearn-color-text-on-default-background);\n",
       "}\n",
       "\n",
       "/* On hover, darken the color of the background */\n",
       "#sk-container-id-1 div.sk-label:hover label.sk-toggleable__label {\n",
       "  color: var(--sklearn-color-text);\n",
       "  background-color: var(--sklearn-color-unfitted-level-2);\n",
       "}\n",
       "\n",
       "/* Label box, darken color on hover, fitted */\n",
       "#sk-container-id-1 div.sk-label.fitted:hover label.sk-toggleable__label.fitted {\n",
       "  color: var(--sklearn-color-text);\n",
       "  background-color: var(--sklearn-color-fitted-level-2);\n",
       "}\n",
       "\n",
       "/* Estimator label */\n",
       "\n",
       "#sk-container-id-1 div.sk-label label {\n",
       "  font-family: monospace;\n",
       "  font-weight: bold;\n",
       "  display: inline-block;\n",
       "  line-height: 1.2em;\n",
       "}\n",
       "\n",
       "#sk-container-id-1 div.sk-label-container {\n",
       "  text-align: center;\n",
       "}\n",
       "\n",
       "/* Estimator-specific */\n",
       "#sk-container-id-1 div.sk-estimator {\n",
       "  font-family: monospace;\n",
       "  border: 1px dotted var(--sklearn-color-border-box);\n",
       "  border-radius: 0.25em;\n",
       "  box-sizing: border-box;\n",
       "  margin-bottom: 0.5em;\n",
       "  /* unfitted */\n",
       "  background-color: var(--sklearn-color-unfitted-level-0);\n",
       "}\n",
       "\n",
       "#sk-container-id-1 div.sk-estimator.fitted {\n",
       "  /* fitted */\n",
       "  background-color: var(--sklearn-color-fitted-level-0);\n",
       "}\n",
       "\n",
       "/* on hover */\n",
       "#sk-container-id-1 div.sk-estimator:hover {\n",
       "  /* unfitted */\n",
       "  background-color: var(--sklearn-color-unfitted-level-2);\n",
       "}\n",
       "\n",
       "#sk-container-id-1 div.sk-estimator.fitted:hover {\n",
       "  /* fitted */\n",
       "  background-color: var(--sklearn-color-fitted-level-2);\n",
       "}\n",
       "\n",
       "/* Specification for estimator info (e.g. \"i\" and \"?\") */\n",
       "\n",
       "/* Common style for \"i\" and \"?\" */\n",
       "\n",
       ".sk-estimator-doc-link,\n",
       "a:link.sk-estimator-doc-link,\n",
       "a:visited.sk-estimator-doc-link {\n",
       "  float: right;\n",
       "  font-size: smaller;\n",
       "  line-height: 1em;\n",
       "  font-family: monospace;\n",
       "  background-color: var(--sklearn-color-background);\n",
       "  border-radius: 1em;\n",
       "  height: 1em;\n",
       "  width: 1em;\n",
       "  text-decoration: none !important;\n",
       "  margin-left: 0.5em;\n",
       "  text-align: center;\n",
       "  /* unfitted */\n",
       "  border: var(--sklearn-color-unfitted-level-1) 1pt solid;\n",
       "  color: var(--sklearn-color-unfitted-level-1);\n",
       "}\n",
       "\n",
       ".sk-estimator-doc-link.fitted,\n",
       "a:link.sk-estimator-doc-link.fitted,\n",
       "a:visited.sk-estimator-doc-link.fitted {\n",
       "  /* fitted */\n",
       "  border: var(--sklearn-color-fitted-level-1) 1pt solid;\n",
       "  color: var(--sklearn-color-fitted-level-1);\n",
       "}\n",
       "\n",
       "/* On hover */\n",
       "div.sk-estimator:hover .sk-estimator-doc-link:hover,\n",
       ".sk-estimator-doc-link:hover,\n",
       "div.sk-label-container:hover .sk-estimator-doc-link:hover,\n",
       ".sk-estimator-doc-link:hover {\n",
       "  /* unfitted */\n",
       "  background-color: var(--sklearn-color-unfitted-level-3);\n",
       "  color: var(--sklearn-color-background);\n",
       "  text-decoration: none;\n",
       "}\n",
       "\n",
       "div.sk-estimator.fitted:hover .sk-estimator-doc-link.fitted:hover,\n",
       ".sk-estimator-doc-link.fitted:hover,\n",
       "div.sk-label-container:hover .sk-estimator-doc-link.fitted:hover,\n",
       ".sk-estimator-doc-link.fitted:hover {\n",
       "  /* fitted */\n",
       "  background-color: var(--sklearn-color-fitted-level-3);\n",
       "  color: var(--sklearn-color-background);\n",
       "  text-decoration: none;\n",
       "}\n",
       "\n",
       "/* Span, style for the box shown on hovering the info icon */\n",
       ".sk-estimator-doc-link span {\n",
       "  display: none;\n",
       "  z-index: 9999;\n",
       "  position: relative;\n",
       "  font-weight: normal;\n",
       "  right: .2ex;\n",
       "  padding: .5ex;\n",
       "  margin: .5ex;\n",
       "  width: min-content;\n",
       "  min-width: 20ex;\n",
       "  max-width: 50ex;\n",
       "  color: var(--sklearn-color-text);\n",
       "  box-shadow: 2pt 2pt 4pt #999;\n",
       "  /* unfitted */\n",
       "  background: var(--sklearn-color-unfitted-level-0);\n",
       "  border: .5pt solid var(--sklearn-color-unfitted-level-3);\n",
       "}\n",
       "\n",
       ".sk-estimator-doc-link.fitted span {\n",
       "  /* fitted */\n",
       "  background: var(--sklearn-color-fitted-level-0);\n",
       "  border: var(--sklearn-color-fitted-level-3);\n",
       "}\n",
       "\n",
       ".sk-estimator-doc-link:hover span {\n",
       "  display: block;\n",
       "}\n",
       "\n",
       "/* \"?\"-specific style due to the `<a>` HTML tag */\n",
       "\n",
       "#sk-container-id-1 a.estimator_doc_link {\n",
       "  float: right;\n",
       "  font-size: 1rem;\n",
       "  line-height: 1em;\n",
       "  font-family: monospace;\n",
       "  background-color: var(--sklearn-color-background);\n",
       "  border-radius: 1rem;\n",
       "  height: 1rem;\n",
       "  width: 1rem;\n",
       "  text-decoration: none;\n",
       "  /* unfitted */\n",
       "  color: var(--sklearn-color-unfitted-level-1);\n",
       "  border: var(--sklearn-color-unfitted-level-1) 1pt solid;\n",
       "}\n",
       "\n",
       "#sk-container-id-1 a.estimator_doc_link.fitted {\n",
       "  /* fitted */\n",
       "  border: var(--sklearn-color-fitted-level-1) 1pt solid;\n",
       "  color: var(--sklearn-color-fitted-level-1);\n",
       "}\n",
       "\n",
       "/* On hover */\n",
       "#sk-container-id-1 a.estimator_doc_link:hover {\n",
       "  /* unfitted */\n",
       "  background-color: var(--sklearn-color-unfitted-level-3);\n",
       "  color: var(--sklearn-color-background);\n",
       "  text-decoration: none;\n",
       "}\n",
       "\n",
       "#sk-container-id-1 a.estimator_doc_link.fitted:hover {\n",
       "  /* fitted */\n",
       "  background-color: var(--sklearn-color-fitted-level-3);\n",
       "}\n",
       "</style><div id=\"sk-container-id-1\" class=\"sk-top-container\"><div class=\"sk-text-repr-fallback\"><pre>MultinomialNB()</pre><b>In a Jupyter environment, please rerun this cell to show the HTML representation or trust the notebook. <br />On GitHub, the HTML representation is unable to render, please try loading this page with nbviewer.org.</b></div><div class=\"sk-container\" hidden><div class=\"sk-item\"><div class=\"sk-estimator fitted sk-toggleable\"><input class=\"sk-toggleable__control sk-hidden--visually\" id=\"sk-estimator-id-1\" type=\"checkbox\" checked><label for=\"sk-estimator-id-1\" class=\"sk-toggleable__label fitted sk-toggleable__label-arrow\"><div><div>MultinomialNB</div></div><div><a class=\"sk-estimator-doc-link fitted\" rel=\"noreferrer\" target=\"_blank\" href=\"https://scikit-learn.org/1.6/modules/generated/sklearn.naive_bayes.MultinomialNB.html\">?<span>Documentation for MultinomialNB</span></a><span class=\"sk-estimator-doc-link fitted\">i<span>Fitted</span></span></div></label><div class=\"sk-toggleable__content fitted\"><pre>MultinomialNB()</pre></div> </div></div></div></div>"
      ],
      "text/plain": [
       "MultinomialNB()"
      ]
     },
     "execution_count": 75,
     "metadata": {},
     "output_type": "execute_result"
    }
   ],
   "source": [
    "model.fit(X_train, y_train)"
   ]
  },
  {
   "cell_type": "markdown",
   "metadata": {},
   "source": [
    "#### Predict on test set"
   ]
  },
  {
   "cell_type": "code",
   "execution_count": 76,
   "metadata": {},
   "outputs": [],
   "source": [
    "test_pred = model.predict(X_test)"
   ]
  },
  {
   "cell_type": "code",
   "execution_count": 77,
   "metadata": {},
   "outputs": [
    {
     "data": {
      "text/plain": [
       "0.7865496172831117"
      ]
     },
     "execution_count": 77,
     "metadata": {},
     "output_type": "execute_result"
    }
   ],
   "source": [
    "accuracy_score(y_test, test_pred)"
   ]
  },
  {
   "cell_type": "markdown",
   "metadata": {},
   "source": [
    "#### Visualize confusion matrix"
   ]
  },
  {
   "cell_type": "code",
   "execution_count": 78,
   "metadata": {},
   "outputs": [],
   "source": [
    "conf_mat = confusion_matrix(y_test, test_pred)"
   ]
  },
  {
   "cell_type": "code",
   "execution_count": 79,
   "metadata": {},
   "outputs": [
    {
     "data": {
      "text/plain": [
       "array([[ 2138,    53,   308,   119,   295,     6,    45,     1,    42],\n",
       "       [  166, 12252,  1167,   466,   338,   552,    77,    22,  1169],\n",
       "       [ 1938,  3203, 56574,  4599,  1560,   210,  1067,    48,   412],\n",
       "       [  620,  1080,  4622, 22659,  1483,   127,   549,    40,   296],\n",
       "       [ 1157,   286,   537,   680,  6896,    95,   261,    18,   212],\n",
       "       [   16,   144,    15,    35,    29,  3159,    38,    21,   562],\n",
       "       [  118,   152,   347,   217,   365,    65, 15372,    11,   245],\n",
       "       [    0,     5,     0,     5,    19,     9,     4,     7,     9],\n",
       "       [   49,   718,   192,    82,    68,   902,   154,    29,  8261]])"
      ]
     },
     "execution_count": 79,
     "metadata": {},
     "output_type": "execute_result"
    }
   ],
   "source": [
    "conf_mat"
   ]
  },
  {
   "cell_type": "code",
   "execution_count": 83,
   "metadata": {},
   "outputs": [],
   "source": [
    "conf_mat = pd.DataFrame(conf_mat, index=model.classes_, columns=model.classes_)"
   ]
  },
  {
   "cell_type": "code",
   "execution_count": 84,
   "metadata": {},
   "outputs": [
    {
     "data": {
      "text/html": [
       "<div>\n",
       "<style scoped>\n",
       "    .dataframe tbody tr th:only-of-type {\n",
       "        vertical-align: middle;\n",
       "    }\n",
       "\n",
       "    .dataframe tbody tr th {\n",
       "        vertical-align: top;\n",
       "    }\n",
       "\n",
       "    .dataframe thead th {\n",
       "        text-align: right;\n",
       "    }\n",
       "</style>\n",
       "<table border=\"1\" class=\"dataframe\">\n",
       "  <thead>\n",
       "    <tr style=\"text-align: right;\">\n",
       "      <th></th>\n",
       "      <th>Vehicle loan or lease</th>\n",
       "      <th>card</th>\n",
       "      <th>credit_report</th>\n",
       "      <th>debt_collection</th>\n",
       "      <th>loan</th>\n",
       "      <th>money_transfer</th>\n",
       "      <th>mortgage</th>\n",
       "      <th>others</th>\n",
       "      <th>savings_account</th>\n",
       "    </tr>\n",
       "  </thead>\n",
       "  <tbody>\n",
       "    <tr>\n",
       "      <th>Vehicle loan or lease</th>\n",
       "      <td>2138</td>\n",
       "      <td>53</td>\n",
       "      <td>308</td>\n",
       "      <td>119</td>\n",
       "      <td>295</td>\n",
       "      <td>6</td>\n",
       "      <td>45</td>\n",
       "      <td>1</td>\n",
       "      <td>42</td>\n",
       "    </tr>\n",
       "    <tr>\n",
       "      <th>card</th>\n",
       "      <td>166</td>\n",
       "      <td>12252</td>\n",
       "      <td>1167</td>\n",
       "      <td>466</td>\n",
       "      <td>338</td>\n",
       "      <td>552</td>\n",
       "      <td>77</td>\n",
       "      <td>22</td>\n",
       "      <td>1169</td>\n",
       "    </tr>\n",
       "    <tr>\n",
       "      <th>credit_report</th>\n",
       "      <td>1938</td>\n",
       "      <td>3203</td>\n",
       "      <td>56574</td>\n",
       "      <td>4599</td>\n",
       "      <td>1560</td>\n",
       "      <td>210</td>\n",
       "      <td>1067</td>\n",
       "      <td>48</td>\n",
       "      <td>412</td>\n",
       "    </tr>\n",
       "    <tr>\n",
       "      <th>debt_collection</th>\n",
       "      <td>620</td>\n",
       "      <td>1080</td>\n",
       "      <td>4622</td>\n",
       "      <td>22659</td>\n",
       "      <td>1483</td>\n",
       "      <td>127</td>\n",
       "      <td>549</td>\n",
       "      <td>40</td>\n",
       "      <td>296</td>\n",
       "    </tr>\n",
       "    <tr>\n",
       "      <th>loan</th>\n",
       "      <td>1157</td>\n",
       "      <td>286</td>\n",
       "      <td>537</td>\n",
       "      <td>680</td>\n",
       "      <td>6896</td>\n",
       "      <td>95</td>\n",
       "      <td>261</td>\n",
       "      <td>18</td>\n",
       "      <td>212</td>\n",
       "    </tr>\n",
       "    <tr>\n",
       "      <th>money_transfer</th>\n",
       "      <td>16</td>\n",
       "      <td>144</td>\n",
       "      <td>15</td>\n",
       "      <td>35</td>\n",
       "      <td>29</td>\n",
       "      <td>3159</td>\n",
       "      <td>38</td>\n",
       "      <td>21</td>\n",
       "      <td>562</td>\n",
       "    </tr>\n",
       "    <tr>\n",
       "      <th>mortgage</th>\n",
       "      <td>118</td>\n",
       "      <td>152</td>\n",
       "      <td>347</td>\n",
       "      <td>217</td>\n",
       "      <td>365</td>\n",
       "      <td>65</td>\n",
       "      <td>15372</td>\n",
       "      <td>11</td>\n",
       "      <td>245</td>\n",
       "    </tr>\n",
       "    <tr>\n",
       "      <th>others</th>\n",
       "      <td>0</td>\n",
       "      <td>5</td>\n",
       "      <td>0</td>\n",
       "      <td>5</td>\n",
       "      <td>19</td>\n",
       "      <td>9</td>\n",
       "      <td>4</td>\n",
       "      <td>7</td>\n",
       "      <td>9</td>\n",
       "    </tr>\n",
       "    <tr>\n",
       "      <th>savings_account</th>\n",
       "      <td>49</td>\n",
       "      <td>718</td>\n",
       "      <td>192</td>\n",
       "      <td>82</td>\n",
       "      <td>68</td>\n",
       "      <td>902</td>\n",
       "      <td>154</td>\n",
       "      <td>29</td>\n",
       "      <td>8261</td>\n",
       "    </tr>\n",
       "  </tbody>\n",
       "</table>\n",
       "</div>"
      ],
      "text/plain": [
       "                       Vehicle loan or lease   card  credit_report  \\\n",
       "Vehicle loan or lease                   2138     53            308   \n",
       "card                                     166  12252           1167   \n",
       "credit_report                           1938   3203          56574   \n",
       "debt_collection                          620   1080           4622   \n",
       "loan                                    1157    286            537   \n",
       "money_transfer                            16    144             15   \n",
       "mortgage                                 118    152            347   \n",
       "others                                     0      5              0   \n",
       "savings_account                           49    718            192   \n",
       "\n",
       "                       debt_collection  loan  money_transfer  mortgage  \\\n",
       "Vehicle loan or lease              119   295               6        45   \n",
       "card                               466   338             552        77   \n",
       "credit_report                     4599  1560             210      1067   \n",
       "debt_collection                  22659  1483             127       549   \n",
       "loan                               680  6896              95       261   \n",
       "money_transfer                      35    29            3159        38   \n",
       "mortgage                           217   365              65     15372   \n",
       "others                               5    19               9         4   \n",
       "savings_account                     82    68             902       154   \n",
       "\n",
       "                       others  savings_account  \n",
       "Vehicle loan or lease       1               42  \n",
       "card                       22             1169  \n",
       "credit_report              48              412  \n",
       "debt_collection            40              296  \n",
       "loan                       18              212  \n",
       "money_transfer             21              562  \n",
       "mortgage                   11              245  \n",
       "others                      7                9  \n",
       "savings_account            29             8261  "
      ]
     },
     "execution_count": 84,
     "metadata": {},
     "output_type": "execute_result"
    }
   ],
   "source": [
    "conf_mat"
   ]
  },
  {
   "cell_type": "code",
   "execution_count": 87,
   "metadata": {},
   "outputs": [
    {
     "data": {
      "image/png": "[encoded data removed]",
      "text/plain": [
       "<Figure size 640x480 with 2 Axes>"
      ]
     },
     "metadata": {},
     "output_type": "display_data"
    }
   ],
   "source": [
    "sns.heatmap(conf_mat)\n",
    "plt.show()"
   ]
  },
  {
   "cell_type": "markdown",
   "metadata": {},
   "source": [
    "#### Save vectorizer and model object"
   ]
  },
  {
   "cell_type": "code",
   "execution_count": 89,
   "metadata": {},
   "outputs": [],
   "source": [
    "with open('Output/count_vect.pkl', 'wb') as f:\n",
    "    pickle.dump(vect, f)\n",
    "\n",
    "with open('Output/nb.pkl', 'wb') as f:\n",
    "    pickle.dump(model, f)"
   ]
  },
  {
   "cell_type": "markdown",
   "metadata": {},
   "source": [
    "### Prediction"
   ]
  },
  {
   "cell_type": "code",
   "execution_count": 90,
   "metadata": {},
   "outputs": [
    {
     "data": {
      "text/plain": [
       "'I have a debt of Bank of America which was written off by the bank XX/XX/XXXX without my knowledge. I went to the bank XXXX XXXX since a law group kept on delving on XXXX XXXX Clerk File and garnishing salary from my work.This case has been closed.I paid a lesser amount to the bank to close this debt XXXX I sent them checks. I will greatly appreciate if this case will be resolve.'"
      ]
     },
     "execution_count": 90,
     "metadata": {},
     "output_type": "execute_result"
    }
   ],
   "source": [
    "data['Complaint'][1545]"
   ]
  },
  {
   "cell_type": "code",
   "execution_count": 91,
   "metadata": {},
   "outputs": [
    {
     "data": {
      "text/plain": [
       "'debt_collection'"
      ]
     },
     "execution_count": 91,
     "metadata": {},
     "output_type": "execute_result"
    }
   ],
   "source": [
    "data['Product'][1545]"
   ]
  },
  {
   "cell_type": "code",
   "execution_count": 93,
   "metadata": {},
   "outputs": [
    {
     "data": {
      "text/plain": [
       "'This is a personal Delta American Express charge card. I am a 30 year customer with American Express. I suddenly, without notice or warning have noted that \" Charging Privileges Have Been Suspended \\'\\'. The card is current, with no money owed. This notice is only available online and I never received ANY written advice of this action. My account is not \" paperless \\'\\'. At the phone number provided to call for information, after nearly an hour on the phone THREE TIMES, no explanation was ever provided and I was advised I \" would be contacted \\'\\' to explain the ( lack of ) issue. I was never contacted. I had accumulated miles points on the card that I can not access and my charge privileges have been suspended. I am unable to obtain any information.'"
      ]
     },
     "execution_count": 93,
     "metadata": {},
     "output_type": "execute_result"
    }
   ],
   "source": [
    "data['Complaint'][5001]"
   ]
  },
  {
   "cell_type": "code",
   "execution_count": 94,
   "metadata": {},
   "outputs": [
    {
     "data": {
      "text/plain": [
       "'card'"
      ]
     },
     "execution_count": 94,
     "metadata": {},
     "output_type": "execute_result"
    }
   ],
   "source": [
    "data['Product'][5001]"
   ]
  },
  {
   "cell_type": "code",
   "execution_count": 95,
   "metadata": {},
   "outputs": [],
   "source": [
    "test_complaint_1 = data['Complaint'][1545]\n",
    "test_complaint_2 = data['Complaint'][5001]"
   ]
  },
  {
   "cell_type": "code",
   "execution_count": 96,
   "metadata": {},
   "outputs": [],
   "source": [
    "test_complaint = [test_complaint_1, test_complaint_2]"
   ]
  },
  {
   "cell_type": "markdown",
   "metadata": {},
   "source": [
    "#### Load the vectorizer and model objects"
   ]
  },
  {
   "cell_type": "code",
   "execution_count": 97,
   "metadata": {},
   "outputs": [],
   "source": [
    "vect = pickle.load(open('Output/count_vect.pkl', 'rb'))\n",
    "model = pickle.load(open('Output/nb.pkl', 'rb'))"
   ]
  },
  {
   "cell_type": "markdown",
   "metadata": {},
   "source": [
    "#### Process the test data"
   ]
  },
  {
   "cell_type": "code",
   "execution_count": 98,
   "metadata": {},
   "outputs": [],
   "source": [
    "test_complaint = [r.lower() for r in test_complaint]"
   ]
  },
  {
   "cell_type": "code",
   "execution_count": 99,
   "metadata": {},
   "outputs": [
    {
     "data": {
      "text/plain": [
       "['i have a debt of bank of america which was written off by the bank xx/xx/xxxx without my knowledge. i went to the bank xxxx xxxx since a law group kept on delving on xxxx xxxx clerk file and garnishing salary from my work.this case has been closed.i paid a lesser amount to the bank to close this debt xxxx i sent them checks. i will greatly appreciate if this case will be resolve.',\n",
       " 'this is a personal delta american express charge card. i am a 30 year customer with american express. i suddenly, without notice or warning have noted that \" charging privileges have been suspended \\'\\'. the card is current, with no money owed. this notice is only available online and i never received any written advice of this action. my account is not \" paperless \\'\\'. at the phone number provided to call for information, after nearly an hour on the phone three times, no explanation was ever provided and i was advised i \" would be contacted \\'\\' to explain the ( lack of ) issue. i was never contacted. i had accumulated miles points on the card that i can not access and my charge privileges have been suspended. i am unable to obtain any information.']"
      ]
     },
     "execution_count": 99,
     "metadata": {},
     "output_type": "execute_result"
    }
   ],
   "source": [
    "test_complaint"
   ]
  },
  {
   "cell_type": "code",
   "execution_count": 100,
   "metadata": {},
   "outputs": [],
   "source": [
    "test_tokens = [word_tokenize(complaint) for complaint in test_complaint]\n"
   ]
  },
  {
   "cell_type": "code",
   "execution_count": 101,
   "metadata": {},
   "outputs": [],
   "source": [
    "test_tokens = [[word for word in token if word not in sw] for token in test_tokens]"
   ]
  },
  {
   "cell_type": "code",
   "execution_count": 102,
   "metadata": {},
   "outputs": [],
   "source": [
    "test_tokens = [[''.join(tokenizer.tokenize(word)) for word in token if len(tokenizer.tokenize(word))>0]  for token in test_tokens]\n",
    "test_tokens = [[t for t in token if t not in ['xxxx', '000']] for token in test_tokens]"
   ]
  },
  {
   "cell_type": "code",
   "execution_count": 103,
   "metadata": {},
   "outputs": [],
   "source": [
    "clean_test_complaints = [' '.join(complaint) for complaint in test_tokens]"
   ]
  },
  {
   "cell_type": "markdown",
   "metadata": {},
   "source": [
    "#### Vectorize test data"
   ]
  },
  {
   "cell_type": "code",
   "execution_count": 104,
   "metadata": {},
   "outputs": [],
   "source": [
    "X_test = vect.transform(clean_test_complaints)"
   ]
  },
  {
   "cell_type": "markdown",
   "metadata": {},
   "source": [
    "#### Make Predictions"
   ]
  },
  {
   "cell_type": "code",
   "execution_count": 105,
   "metadata": {},
   "outputs": [
    {
     "data": {
      "text/plain": [
       "array(['debt_collection', 'card'], dtype='<U21')"
      ]
     },
     "execution_count": 105,
     "metadata": {},
     "output_type": "execute_result"
    }
   ],
   "source": [
    "model.predict(X_test)"
   ]
  },
  {
   "cell_type": "code",
   "execution_count": null,
   "metadata": {},
   "outputs": [],
   "source": []
  }
 ],
 "metadata": {
  "kernelspec": {
   "display_name": ".venv",
   "language": "python",
   "name": "python3"
  },
  "language_info": {
   "codemirror_mode": {
    "name": "ipython",
    "version": 3
   },
   "file_extension": ".py",
   "mimetype": "text/x-python",
   "name": "python",
   "nbconvert_exporter": "python",
   "pygments_lexer": "ipython3",
   "version": "3.10.0"
  }
 },
 "nbformat": 4,
 "nbformat_minor": 2
}
